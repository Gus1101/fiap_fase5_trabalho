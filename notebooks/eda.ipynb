{
 "cells": [
  {
   "cell_type": "code",
   "execution_count": 29,
   "id": "10a5c45b",
   "metadata": {},
   "outputs": [],
   "source": [
    "import pandas as pd\n",
    "import numpy as np"
   ]
  },
  {
   "cell_type": "code",
   "execution_count": null,
   "id": "da57031f",
   "metadata": {},
   "outputs": [],
   "source": [
    "vendas = pd.read_csv(\"C:/Users/augus/OneDrive/desktop/estudos/faculdade/fase5/fiap_fase5_trabalho/data/vendas_linha_petshop_2020_2024.csv\",sep=\";\", decimal=\",\", encoding=\"latin1\")"
   ]
  },
  {
   "cell_type": "code",
   "execution_count": null,
   "id": "528a255f",
   "metadata": {},
   "outputs": [],
   "source": [
    "def ajustar_tipos(df: pd.DataFrame) -> pd.DataFrame:\n",
    "    \"\"\"\n",
    "    Realiza cast de colunas do DataFrame para os tipos adequados,\n",
    "    tratando valores monetários, nulos, strings vazias e espaços.\n",
    "    \"\"\"\n",
    "    tipos = {\n",
    "        \"cod_pedido\": \"Int64\",  # inteiro com suporte a nulos\n",
    "        \"regiao_pais\": \"string\",\n",
    "        \"produto\": \"string\",\n",
    "        \"valor\": \"float64\",\n",
    "        \"quantidade\": \"Int64\",  # inteiro com suporte a nulos\n",
    "        \"valor_total_bruto\": \"float64\",\n",
    "        \"data\": \"datetime64[ns]\",\n",
    "        \"estado\": \"string\",\n",
    "        \"formapagto\": \"string\",\n",
    "        \"centro_distribuicao\": \"string\",\n",
    "        \"responsavelpedido\": \"string\",\n",
    "        \"valor_comissao\": \"float64\",\n",
    "        \"lucro_liquido\": \"float64\",\n",
    "        \"categoriaprod\": \"string\",\n",
    "    }\n",
    "\n",
    "    for col, tipo in tipos.items():\n",
    "        if col not in df.columns:\n",
    "            continue\n",
    "\n",
    "        if \"float\" in tipo:\n",
    "            # Converte para string, limpa, substitui vazios/traços por NaN\n",
    "            df[col] = (\n",
    "                df[col]\n",
    "                .astype(str)\n",
    "                .str.strip()\n",
    "                .replace({\"\": np.nan, \" \": np.nan, \"-\": np.nan, \"nan\": np.nan, \"None\": np.nan})\n",
    "                .str.replace(r\"[^\\d.,-]\", \"\", regex=True)  # remove símbolos tipo R$\n",
    "                .str.replace(\",\", \".\", regex=False)       # vírgula -> ponto\n",
    "            )\n",
    "            # se ainda restar string vazia, vira NaN\n",
    "            df[col] = pd.to_numeric(df[col], errors=\"coerce\")\n",
    "\n",
    "        elif tipo == \"Int64\":\n",
    "            df[col] = (\n",
    "                df[col]\n",
    "                .astype(str)\n",
    "                .str.strip()\n",
    "                .replace({\"\": pd.NA, \" \": pd.NA, \"-\": pd.NA, \"nan\": pd.NA, \"None\": pd.NA})\n",
    "            )\n",
    "            df[col] = pd.to_numeric(df[col], errors=\"coerce\").astype(\"Int64\")\n",
    "\n",
    "        elif tipo == \"datetime64[ns]\":\n",
    "            df[col] = pd.to_datetime(df[col], errors=\"coerce\", dayfirst=True)\n",
    "\n",
    "        else:\n",
    "            df[col] = df[col].replace({\"\": pd.NA, \" \": pd.NA}).astype(tipo)\n",
    "\n",
    "    return df\n"
   ]
  },
  {
   "cell_type": "code",
   "execution_count": null,
   "id": "5c48a6eb",
   "metadata": {},
   "outputs": [],
   "source": [
    "df_ajustado.to_parquet(\n",
    "    \"C:/Users/augus/OneDrive/desktop/estudos/faculdade/fase5/fiap_fase5_trabalho/data/vendas_linha_petshop_2020_2024.parquet\",\n",
    "    engine=\"fastparquet\"\n",
    ")"
   ]
  },
  {
   "cell_type": "code",
   "execution_count": 27,
   "id": "87b93c6a",
   "metadata": {},
   "outputs": [],
   "source": [
    "publi = pd.read_csv(\"C:/Users/augus/OneDrive/desktop/estudos/faculdade/fase5/fiap_fase5_trabalho/data/Gastos_Publicidade_MelhoresCompras.csv\",sep=\",\", decimal=\".\", encoding=\"latin1\")"
   ]
  },
  {
   "cell_type": "code",
   "execution_count": 30,
   "id": "e15c6eca",
   "metadata": {},
   "outputs": [],
   "source": [
    "def ajustar_tipos_marketing(df: pd.DataFrame) -> pd.DataFrame:\n",
    "    \"\"\"\n",
    "    Ajusta os tipos de dados do dataset de marketing.\n",
    "    \"\"\"\n",
    "    # Converte campos simples\n",
    "    df[\"Ano\"] = pd.to_numeric(df[\"Ano\"], errors=\"coerce\").astype(\"Int64\")\n",
    "    df[\"Mes\"] = pd.to_numeric(df[\"Mes\"], errors=\"coerce\").astype(\"Int64\")\n",
    "    df[\"Tipo de Midia\"] = df[\"Tipo de Midia\"].astype(\"string\")\n",
    "    df[\"Previsao Inicial de Aumento de Vendas (em mil unidades)\"] = (\n",
    "        pd.to_numeric(df[\"Previsao Inicial de Aumento de Vendas (em mil unidades)\"], errors=\"coerce\")\n",
    "        .astype(\"Int64\")\n",
    "    )\n",
    "\n",
    "    # Tratamento especial para valores monetários\n",
    "    df[\"Gastos com Publicidade (em R$)\"] = (\n",
    "        df[\"Gastos com Publicidade (em R$)\"]\n",
    "        .astype(str)\n",
    "        .str.strip()\n",
    "        .replace({\"\": np.nan, \"nan\": np.nan, \"-\": np.nan, \"None\": np.nan})\n",
    "        .str.replace(r\"[^\\d,.-]\", \"\", regex=True)   # remove R$, espaços etc.\n",
    "        .str.replace(\",\", \".\", regex=False)         # vírgula -> ponto decimal\n",
    "    )\n",
    "    df[\"Gastos com Publicidade (em R$)\"] = pd.to_numeric(\n",
    "        df[\"Gastos com Publicidade (em R$)\"], errors=\"coerce\"\n",
    "    ).astype(\"float64\")\n",
    "\n",
    "    return df\n"
   ]
  },
  {
   "cell_type": "code",
   "execution_count": 31,
   "id": "de6f6a2a",
   "metadata": {},
   "outputs": [],
   "source": [
    "publi_ajustada = ajustar_tipos_marketing(publi)"
   ]
  },
  {
   "cell_type": "code",
   "execution_count": 32,
   "id": "956a49a8",
   "metadata": {},
   "outputs": [],
   "source": [
    "publi_ajustada.to_parquet(\"C:/Users/augus/OneDrive/desktop/estudos/faculdade/fase5/fiap_fase5_trabalho/data/Gastos_Publicidade_MelhoresCompras.parquet\",engine=\"fastparquet\")"
   ]
  }
 ],
 "metadata": {
  "kernelspec": {
   "display_name": "fiap-fase5-trabalho",
   "language": "python",
   "name": "python3"
  },
  "language_info": {
   "codemirror_mode": {
    "name": "ipython",
    "version": 3
   },
   "file_extension": ".py",
   "mimetype": "text/x-python",
   "name": "python",
   "nbconvert_exporter": "python",
   "pygments_lexer": "ipython3",
   "version": "3.13.1"
  }
 },
 "nbformat": 4,
 "nbformat_minor": 5
}
